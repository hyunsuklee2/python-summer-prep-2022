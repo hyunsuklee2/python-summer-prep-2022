{
 "cells": [
  {
   "cell_type": "markdown",
   "metadata": {},
   "source": [
    "# Problem Alphabet Slices\n",
    "* Store the first ten letters of the alphabet in a list.\n",
    "* Use a slice to print out the first three letters of the alphabet.\n",
    "* Use a slice to print out any three letters from the middle of your list."
   ]
  },
  {
   "cell_type": "code",
   "execution_count": 2,
   "metadata": {},
   "outputs": [
    {
     "name": "stdout",
     "output_type": "stream",
     "text": [
      "Hello bob World\n",
      "['A', 'B', 'C']\n",
      "['D', 'E', 'F']\n"
     ]
    }
   ],
   "source": [
    "# Solve Alphabet slices here. \n",
    "\n",
    "print (\"Hello bob World\")\n",
    "\n",
    "alphabet = ['A', 'B', 'C', 'D', 'E', 'F', 'G', 'H', 'I', 'J']\n",
    "\n",
    "print(alphabet[:3])\n",
    "print(alphabet[3:6])\n"
   ]
  },
  {
   "cell_type": "markdown",
   "metadata": {},
   "source": [
    "# Problem:  Covert all the rapper names to title case and save them into a new different list. \n",
    "example: lil wayne becomes Lil Wayne"
   ]
  },
  {
   "cell_type": "code",
   "execution_count": 4,
   "metadata": {},
   "outputs": [
    {
     "name": "stdout",
     "output_type": "stream",
     "text": [
      "['Lil Wayne', 'Nicki Minaj', 'Drake']\n"
     ]
    }
   ],
   "source": [
    "# Solve rapper names here\n",
    "rappers = ['lil wayne', 'nicki minaj', 'drake']\n",
    "\n",
    "rappers_in_title_case = []  #new varibale to store in\n",
    "\n",
    "for i in rappers:\n",
    "    title_case = i.title()  #title case the rappers list with built in method called (.title)\n",
    "    \n",
    "    rappers_in_title_case.append(title_case)  #add the title case lists to the new variable\n",
    "    \n",
    "print(rappers_in_title_case)  #print the updated new variable\n",
    "\n",
    "\n",
    "\n"
   ]
  },
  {
   "cell_type": "markdown",
   "metadata": {},
   "source": [
    "# Problem: Write a function thats input is a number and output is:\n",
    "* Return True if the input number is even.\n",
    "* Return False if the input number is odd."
   ]
  },
  {
   "cell_type": "code",
   "execution_count": 16,
   "metadata": {},
   "outputs": [
    {
     "data": {
      "text/plain": [
       "True"
      ]
     },
     "execution_count": 16,
     "metadata": {},
     "output_type": "execute_result"
    }
   ],
   "source": [
    "# Solve problem here\n",
    "\n",
    "def odd_or_even(x):  #every function starts with def --> name of the function --> and the variable passed in\n",
    "    if x % 2 == 0:   #every if and else statment has to end with a :\n",
    "        return True\n",
    "    else:\n",
    "        return False  #every return statement has to be CAPITAL T for true or F for false\n",
    "    \n",
    "odd_or_even(40)\n",
    "    \n",
    "\n",
    "\n"
   ]
  },
  {
   "cell_type": "markdown",
   "metadata": {},
   "source": [
    "# Problem: Find the sum and the average of this list of numbers.\n",
    "\n",
    "Try doing this using a loop.  Then try doing this without using a loop. "
   ]
  },
  {
   "cell_type": "code",
   "execution_count": 10,
   "metadata": {},
   "outputs": [
    {
     "name": "stdout",
     "output_type": "stream",
     "text": [
      "353 35.3\n"
     ]
    }
   ],
   "source": [
    "# Solve problem here:\n",
    "\n",
    "my_list = [1, 5, 10, 55, 88, 44, 42, 50, 20, 38]\n",
    "\n",
    "#unlike java you can use built in method called sum for the whole list\n",
    "\n",
    "list_sum = sum(my_list)\n",
    "list_avg = sum(my_list) / len(my_list)\n",
    "\n",
    "\n",
    "# Keep this as your last line in this cell.\n",
    "print(list_sum, list_avg)"
   ]
  },
  {
   "cell_type": "markdown",
   "metadata": {},
   "source": [
    "# Problem: Write a function that input is a number and output returns the following\n",
    "* If the input is divisible by three, return 'fizz'\n",
    "* If the input is divisible by five, return 'buzz'\n",
    "* If the input is divisible by three and by five, return 'fizzbuzz'\n",
    "* If the input is not divisible by three or five, return None."
   ]
  },
  {
   "cell_type": "code",
   "execution_count": 25,
   "metadata": {},
   "outputs": [
    {
     "data": {
      "text/plain": [
       "'fizzbuzz'"
      ]
     },
     "execution_count": 25,
     "metadata": {},
     "output_type": "execute_result"
    }
   ],
   "source": [
    "# Solve Problem fizzbuzz here:\n",
    "def fizzbuzz (x):\n",
    "    if (x % 3 == 0) and (x % 5 == 0):  #not sure why its not return fizzbuzz for x == 15? is it because its not before the first if statement?\n",
    "        return 'fizzbuzz'\n",
    "    if x % 3 == 0:\n",
    "        return 'fizz'\n",
    "    if x % 5 == 0:\n",
    "        return 'buzz'\n",
    "   \n",
    "    else:\n",
    "        return None\n",
    "    \n",
    "fizzbuzz(15)"
   ]
  },
  {
   "cell_type": "markdown",
   "metadata": {},
   "source": [
    "# Problem: \n",
    "Write a function that takes a list and returns a new list that contains all the elements of the first list minus all the duplicates.\n",
    "\n",
    "Example input and expected output\n",
    "\n",
    "input = [\"Michele\", \"Robin\", \"Sara\", \"Michele\"]\n",
    "\n",
    "expected output = ['Michele', 'Robin', 'Sara']\n"
   ]
  },
  {
   "cell_type": "code",
   "execution_count": 31,
   "metadata": {},
   "outputs": [
    {
     "name": "stdout",
     "output_type": "stream",
     "text": [
      "['Michele', 'Sara', 'Robin']\n"
     ]
    }
   ],
   "source": [
    "# Solve problem here:\n",
    "\n",
    "names = [\"Michele\", \"Robin\", \"Sara\", \"Michele\"]\n",
    "\n",
    "names = set(names)  #the SET function automatically takes the duplicates out of the list\n",
    "names = list(names) #use the updated list from the set function\n",
    "\n",
    "print(names)\n"
   ]
  },
  {
   "cell_type": "markdown",
   "metadata": {},
   "source": [
    "# Problem: \n",
    "Write a function that takes a list of numbers (for example, a = [5, 10, 15, 20, 25]) and returns a new list of only the first and last elements of the given list.\n",
    "\n",
    "Example input and expected output:\n",
    "\n",
    "input = [5, 10, 15, 20, 25]\n",
    "\n",
    "expected output = [5, 25]"
   ]
  },
  {
   "cell_type": "code",
   "execution_count": 43,
   "metadata": {},
   "outputs": [
    {
     "data": {
      "text/plain": [
       "[5, 25]"
      ]
     },
     "execution_count": 43,
     "metadata": {},
     "output_type": "execute_result"
    }
   ],
   "source": [
    "# Solve problem here:\n",
    "input_list = [5, 10, 99, 20, 25]\n",
    "\n",
    "def first_last(x):  #name of function --> then variable passed in x\n",
    "    first_element = x[0]  #assign first element to variable\n",
    "    last_element = x[-1]  #assign last element to variable\n",
    "    return([first_element, last_element])\n",
    "\n",
    "first_last(input_list)"
   ]
  },
  {
   "cell_type": "markdown",
   "metadata": {},
   "source": [
    "# Problem:  Implement a function that takes as input three variables, and returns the largest of the three. \n",
    "Do this without using the Python max() function! \n",
    "_*Note all three input numbers will always be different, no need to account for a tie._\n",
    "\n",
    "Example input and expected output:\n",
    "\n",
    "input = your_function(1, 5, 10)\n",
    "\n",
    "expected output:  10"
   ]
  },
  {
   "cell_type": "code",
   "execution_count": 58,
   "metadata": {},
   "outputs": [],
   "source": [
    "# Solve Problem here:\n",
    "\n",
    "def your_function(a, b, c):\n",
    "    # Fill in your code below and return max value of a, b, c\n",
    "    if c > a and c > b:\n",
    "        return c\n",
    "    if b > a and b > c:\n",
    "        return b\n",
    "    if a > b and a > c:\n",
    "        return a\n",
    "#     max = sorted(your_function)[-1]\n",
    "#     return max    \n",
    "    "
   ]
  },
  {
   "cell_type": "code",
   "execution_count": 61,
   "metadata": {},
   "outputs": [
    {
     "data": {
      "text/plain": [
       "10"
      ]
     },
     "execution_count": 61,
     "metadata": {},
     "output_type": "execute_result"
    }
   ],
   "source": [
    "# Test to see if your function works properly.\n",
    "your_function(1, 5, 10)"
   ]
  },
  {
   "cell_type": "code",
   "execution_count": null,
   "metadata": {},
   "outputs": [],
   "source": []
  }
 ],
 "metadata": {
  "kernelspec": {
   "display_name": "Python 3",
   "language": "python",
   "name": "python3"
  },
  "language_info": {
   "codemirror_mode": {
    "name": "ipython",
    "version": 3
   },
   "file_extension": ".py",
   "mimetype": "text/x-python",
   "name": "python",
   "nbconvert_exporter": "python",
   "pygments_lexer": "ipython3",
   "version": "3.8.3"
  }
 },
 "nbformat": 4,
 "nbformat_minor": 4
}
